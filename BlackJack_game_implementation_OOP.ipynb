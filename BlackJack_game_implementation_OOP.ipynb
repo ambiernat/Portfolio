{
 "cells": [
  {
   "cell_type": "markdown",
   "metadata": {},
   "source": [
    "# BLACKJACK game implementation - OOP Project"
   ]
  },
  {
   "cell_type": "markdown",
   "metadata": {
    "collapsed": true
   },
   "source": [
    "(Could also be implemented in R)\n",
    "1.    Construct a deck of cards. 52 cards in total, A,2,3,…,J,Q,K for each suit (Spade/Diamond/Heart/Club)\n",
    "2.    Shuffle cards randomly.\n",
    "3.    If A can be 1 or 11; each J,Q,K equals to 10; and the numbered cards have their respective face values\n",
    "Define a function to calculate the maximum value, but <=21, of a set of cards.\n",
    "For example: the set ”AAAA” would have a value 14\n",
    "4.    In a game of comparing card sets value (Players will always use maximum values of the set as calculated in Q3). From player 1’s point of view, he sees that\n",
    "a.    He has Club 6 and Spade J (total is 16).\n",
    "b.    The other player (player 2) has 2 Cards. One is shown to be Club K, while the other one is not shown.\n",
    "If player 2 have decided to stay (meaning not getting any more cards), please use simulation method to find the probability of player 1 winning (player 1 set value > player 2 set value) if player 1 can get one and only one more card.\n",
    "5.    Implement an algorithm of your choice (but not using existing sort functions) to sort cards by suit and rank (same suit stack together)."
   ]
  },
  {
   "cell_type": "markdown",
   "metadata": {
    "collapsed": true
   },
   "source": [
    "## Import Libraries"
   ]
  },
  {
   "cell_type": "code",
   "execution_count": 1,
   "metadata": {
    "collapsed": true
   },
   "outputs": [],
   "source": [
    "import random\n",
    "import numpy as np"
   ]
  },
  {
   "cell_type": "markdown",
   "metadata": {},
   "source": [
    "## Define game - classes and functions"
   ]
  },
  {
   "cell_type": "code",
   "execution_count": 2,
   "metadata": {
    "collapsed": false
   },
   "outputs": [],
   "source": [
    "# Prepare class for a Card :\n",
    "\n",
    "class Card:\n",
    "    def __init__(self, rank, suit):\n",
    "        self.rank = rank\n",
    "        self.suit = suit\n",
    "\n",
    "# method to show the card, in a form of a list in order to be able to use indexing (for lists)\n",
    "\n",
    "# stripping out the value on the card:\n",
    "\n",
    "    def show(self):\n",
    "        return list([self.rank, self.suit]) \n",
    "    \n",
    "    def __eq__(self, other):\n",
    "        return self.rank == other.rank and self.suit == other.suit \n",
    "    "
   ]
  },
  {
   "cell_type": "code",
   "execution_count": 3,
   "metadata": {
    "collapsed": false
   },
   "outputs": [],
   "source": [
    "# Class for a Deck:\n",
    "# creates a deck (returns shuffled deck - method shuffle() \n",
    "# and then method show() to show cards; method show should be run at the end of all other suitable methods)\n",
    "\n",
    "class Deck:\n",
    "    \n",
    "    def __init__(self):\n",
    "        self.cards = []  # initialise a list which we will later append to create a deck\n",
    "        self.ready_deck = [] \n",
    "        self.suits = ['Spade', 'Diamond', 'Heart', 'Club']\n",
    "        self.ranks = ['A', '2', '3', '4', '5', '6', '7', '8', '9', '10', 'J', 'Q', 'K']\n",
    "        self.construct()\n",
    "\n",
    "        \n",
    "    def construct(self):\n",
    "        for r in self.ranks:\n",
    "            for s in self.suits:\n",
    "                self.cards.append(Card(r, s))\n",
    "    \n",
    "# function for removing certain cards from the deck\n",
    "    def removeCards(self, CardsList, removecntr = False):# CardsList: a list of cards (hence a list of lists)\n",
    "        if removecntr:\n",
    "            for i in range(len(CardsList)):\n",
    "                self.cards.remove(Card(CardsList[i][0], CardsList[i][1]))  \n",
    "        else:\n",
    "            pass\n",
    "\n",
    "                \n",
    "    # creates a list of lists, where the wrapper list is the deck and lists within correspond to cards\n",
    "                \n",
    "    def show(self): \n",
    "        for c in self.cards:\n",
    "            self.ready_deck.append(c.show())\n",
    "        return self.ready_deck\n",
    "    \n",
    "    def shuffle(self):\n",
    "        for i in range(len(self.cards)-1, 0, -1): # looping through in reverse order\n",
    "            j = random.randint(0,i)\n",
    "            self.cards[i], self.cards[j] = self.cards[j], self.cards[i]\n",
    "            \n",
    "    def drawCard(self):\n",
    "        return self.cards.pop()\n",
    "    \n",
    "    def drawCardSet(self, noCards):\n",
    "        for i in range(1, noCards):\n",
    "            return list(np.random.choice(self.cards, size = noCards, replace = False))\n",
    "        "
   ]
  },
  {
   "cell_type": "code",
   "execution_count": 4,
   "metadata": {
    "collapsed": false
   },
   "outputs": [],
   "source": [
    "def setValue(card_set):\n",
    "    \n",
    "    '''\n",
    "    The function calculates the value of cards for a given card_set based on their rank.\n",
    "    Please see the dict object below for details on the respective values assigned to different card ranks.\n",
    "    \n",
    "    A can be either 1 or 11 (implemented in the code below) depending on the total sum score and conditional\n",
    "    on the final value being at most 21.\n",
    "    \n",
    "    Hence e.g. \"AAAA\" (i.e. a draw of all four aces) would yield a value of 14.\n",
    "\n",
    "    \n",
    "    '''\n",
    "    \n",
    "    # define a mapping using a dict object\n",
    "    d = dict(zip(['A', '2', '3', '4', '5', '6', '7', '8', '9', '10', 'J', 'Q', 'K'], \n",
    "             [11, 2, 3, 4, 5, 6, 7, 8, 9, 10, 10, 10, 10]))\n",
    "    \n",
    "    \n",
    "    # calculates the (sum) value of a set of cards\n",
    "    cs_show = list(map(lambda x:x.show(),card_set))\n",
    "    sum_value = 0\n",
    "    for i in range(0,len(cs_show)):\n",
    "        sum_value = sum_value + d[list(map(lambda x:x.show(),card_set))[i][0]]\n",
    "        \n",
    "        \n",
    "    # counts the number of occurances of aces ('A') in the card_set   \n",
    "    counter = 0\n",
    "    for i in range(0,len(cs_show)):\n",
    "        counter = counter + cs_show[i].count('A')\n",
    "        \n",
    "        \n",
    "    # adjusts the (sum) value\n",
    "    while (sum_value>21 and counter!=0):\n",
    "        sum_value = sum_value-10\n",
    "        counter = counter-1\n",
    "        \n",
    "    \n",
    "    # I assume in the code below that if the sum value obtained from the set of cards that\\\n",
    "    # does not contain any aces ('A') is larger than 21, then the sum value can still be at most 21\n",
    "    # i.e. that the sum value can be at most 21 in any case\n",
    "    \n",
    "    return sum_value  \n",
    "    "
   ]
  },
  {
   "cell_type": "markdown",
   "metadata": {
    "collapsed": false
   },
   "source": [
    "###### What we already know (filtration):\n",
    "* the deck contains 48 cards ( as 4 had been already drawn)\n",
    "* the cards drawn are: [\"6\", \"Club\"], [\"J\", \"Spade\"], [\"K\", \"Club\"] and one unknown card\n",
    "* Consider the problem as a conditional probability; Prob(player1 wins | unknown card is x)\n",
    "* This is what has already happened, Player 1 just does not know the hand of Player2, hence \n",
    "* my recommendation is to model the game as a conditional probability problem (i.e. events happenning one after the other)"
   ]
  },
  {
   "cell_type": "code",
   "execution_count": 5,
   "metadata": {
    "collapsed": true
   },
   "outputs": [],
   "source": [
    "class Player:\n",
    "    def __init__(self, name):\n",
    "        self.name = name\n",
    "        self.hand = []\n",
    "        \n",
    "    def draw(self, deck):\n",
    "        self.hand.append(deck.drawCard())\n",
    "        return self\n",
    "    \n",
    "    def show(self):\n",
    "        for c in self.hand:\n",
    "            return c.show()"
   ]
  },
  {
   "cell_type": "code",
   "execution_count": 6,
   "metadata": {
    "collapsed": false
   },
   "outputs": [],
   "source": [
    "def SinglePlay(P1_draw, P2_draw, removecntr = False, player1_name = 1, player2_name = 2):\n",
    "    '''\n",
    "    function performs a single run of the game\n",
    "    \n",
    "    '''\n",
    "    \n",
    "    CardsList = P1_draw + P2_draw\n",
    "    deck1 = Deck()\n",
    "    deck1.shuffle()\n",
    "    deck1.removeCards(CardsList = CardsList, removecntr = removecntr)\n",
    "    \n",
    "    # first Player 2 draws the card\n",
    "    Player2 = Player(player2_name)\n",
    "    Player2.draw(deck1)\n",
    "    P2_set = [] \n",
    "    for _ in range(len(P2_draw)):\n",
    "        P2_set.append(Card(P2_draw[_][0], P2_draw[_][1]))\n",
    "    P2_set.append(Player2.draw(deck1))\n",
    "    \n",
    "    # next player 1 draws the card\n",
    "    Player1 = Player(player1_name)\n",
    "    Player1.draw(deck1)\n",
    "    P1_set = [] \n",
    "    for _ in range(len(P1_draw)):\n",
    "        P1_set.append(Card(P1_draw[_][0], P1_draw[_][1]))\n",
    "    P1_set.append(Player1.draw(deck1))\n",
    "    \n",
    "    return setValue(P1_set) > setValue(P2_set)\n",
    "    "
   ]
  },
  {
   "cell_type": "code",
   "execution_count": 7,
   "metadata": {
    "collapsed": true
   },
   "outputs": [],
   "source": [
    "def SimulatorProb(n_iter):\n",
    "    \n",
    "    '''\n",
    "    function performs simulation of the game a given number of times\n",
    "    \n",
    "    By the law of large numbers the probability of player 1 winning will converge in probability\n",
    "    to a probability of the ratio of the number of how many times player1 won to the number\n",
    "    the game has been played, given a sufficiently large number of repetitions the game has been played\n",
    "    \n",
    "    '''\n",
    "    results = []\n",
    "    \n",
    "    for i in range(n_iter):\n",
    "        temp = SinglePlay(P1_draw = [[\"J\", \"Spade\"], [\"6\", \"Club\"]], P2_draw = [[\"K\", \"Club\"]], removecntr = True)\n",
    "        results.append(temp)\n",
    "        \n",
    "        probability = np.sum(results)/len(results)\n",
    "    \n",
    "    return probability"
   ]
  },
  {
   "cell_type": "markdown",
   "metadata": {},
   "source": [
    "## Run Game"
   ]
  },
  {
   "cell_type": "code",
   "execution_count": 8,
   "metadata": {
    "collapsed": false
   },
   "outputs": [
    {
     "data": {
      "text/plain": [
       "0.87"
      ]
     },
     "execution_count": 8,
     "metadata": {},
     "output_type": "execute_result"
    }
   ],
   "source": [
    "SimulatorProb(n_iter = 100)"
   ]
  },
  {
   "cell_type": "code",
   "execution_count": 9,
   "metadata": {
    "collapsed": false
   },
   "outputs": [
    {
     "data": {
      "text/plain": [
       "0.8329"
      ]
     },
     "execution_count": 9,
     "metadata": {},
     "output_type": "execute_result"
    }
   ],
   "source": [
    "SimulatorProb(n_iter = 10000)"
   ]
  },
  {
   "cell_type": "code",
   "execution_count": 10,
   "metadata": {
    "collapsed": false
   },
   "outputs": [
    {
     "data": {
      "text/plain": [
       "0.83283"
      ]
     },
     "execution_count": 10,
     "metadata": {},
     "output_type": "execute_result"
    }
   ],
   "source": [
    "SimulatorProb(n_iter = 100000)"
   ]
  },
  {
   "cell_type": "markdown",
   "metadata": {
    "collapsed": false
   },
   "source": [
    "## Sort cards (Q5)"
   ]
  },
  {
   "cell_type": "markdown",
   "metadata": {},
   "source": [
    "#### Bubble sorting algorithm is not the most computationally efficient algorithm as it has a computational complexity of n^2, i.e. O(n^2)"
   ]
  },
  {
   "cell_type": "code",
   "execution_count": 14,
   "metadata": {
    "collapsed": false
   },
   "outputs": [],
   "source": [
    "def bubble_sorting(deck_list):\n",
    "    '''\n",
    "    \n",
    "    The sorting algorithms used: bubble sort\n",
    "    \n",
    "    The below code sorts the cards in order according to both rank and suits, such that cards of the same\n",
    "    suit are grouped together (suits in alphabetical order) and within each suit, the cards are ordered\n",
    "    according to their ranks (assuming order as per below dictionary mapping, ie order of:\n",
    "    ['A', '2', '3', '4', '5', '6', '7', '8', '9', '10', 'J', 'Q', 'K'])\n",
    "\n",
    "    deck_list: a list of shuffled cards\n",
    "    '''\n",
    "    \n",
    "    # create a mapping which would be used for comparing:\n",
    "    d = dict(zip(['A', '2', '3', '4', '5', '6', '7', '8', '9', '10', 'J', 'Q', 'K'], \n",
    "             [1, 2, 3, 4, 5, 6, 7, 8, 9, 10, 11, 12, 13]))\n",
    "    \n",
    "    # first sort by ranks:\n",
    "    for iter_num in range(len(deck_list)-1,0,-1):\n",
    "        for idx in range(iter_num):\n",
    "            if d[deck_list[idx][0]] > d[deck_list[idx+1][0]]:\n",
    "                temp = deck_list[idx]\n",
    "                deck_list[idx] = deck_list[idx+1]\n",
    "                deck_list[idx+1] = temp\n",
    "                \n",
    "    deck_list1 = deck_list\n",
    "                \n",
    "                \n",
    "    # then, when sorted by ranks, sort by suits\n",
    "    for iter_num in range(len(deck_list1)-1,0,-1):\n",
    "        for idx in range(iter_num):\n",
    "            if deck_list1[idx][1][0] > deck_list1[idx+1][1][0]:\n",
    "                temp = deck_list1[idx]\n",
    "                deck_list1[idx] = deck_list1[idx+1]\n",
    "                deck_list1[idx+1] = temp            \n",
    "                \n",
    "    return deck_list1"
   ]
  },
  {
   "cell_type": "markdown",
   "metadata": {
    "collapsed": false
   },
   "source": [
    "#### Do sorting "
   ]
  },
  {
   "cell_type": "code",
   "execution_count": 15,
   "metadata": {
    "collapsed": true
   },
   "outputs": [],
   "source": [
    "deck = Deck()"
   ]
  },
  {
   "cell_type": "code",
   "execution_count": 16,
   "metadata": {
    "collapsed": true
   },
   "outputs": [],
   "source": [
    "deck.shuffle()"
   ]
  },
  {
   "cell_type": "code",
   "execution_count": 17,
   "metadata": {
    "collapsed": true
   },
   "outputs": [],
   "source": [
    "deck_list = deck.show()"
   ]
  },
  {
   "cell_type": "code",
   "execution_count": 18,
   "metadata": {
    "collapsed": false
   },
   "outputs": [
    {
     "data": {
      "text/plain": [
       "[['A', 'Club'],\n",
       " ['2', 'Club'],\n",
       " ['3', 'Club'],\n",
       " ['4', 'Club'],\n",
       " ['5', 'Club'],\n",
       " ['6', 'Club'],\n",
       " ['7', 'Club'],\n",
       " ['8', 'Club'],\n",
       " ['9', 'Club'],\n",
       " ['10', 'Club'],\n",
       " ['J', 'Club'],\n",
       " ['Q', 'Club'],\n",
       " ['K', 'Club'],\n",
       " ['A', 'Diamond'],\n",
       " ['2', 'Diamond'],\n",
       " ['3', 'Diamond'],\n",
       " ['4', 'Diamond'],\n",
       " ['5', 'Diamond'],\n",
       " ['6', 'Diamond'],\n",
       " ['7', 'Diamond'],\n",
       " ['8', 'Diamond'],\n",
       " ['9', 'Diamond'],\n",
       " ['10', 'Diamond'],\n",
       " ['J', 'Diamond'],\n",
       " ['Q', 'Diamond'],\n",
       " ['K', 'Diamond'],\n",
       " ['A', 'Heart'],\n",
       " ['2', 'Heart'],\n",
       " ['3', 'Heart'],\n",
       " ['4', 'Heart'],\n",
       " ['5', 'Heart'],\n",
       " ['6', 'Heart'],\n",
       " ['7', 'Heart'],\n",
       " ['8', 'Heart'],\n",
       " ['9', 'Heart'],\n",
       " ['10', 'Heart'],\n",
       " ['J', 'Heart'],\n",
       " ['Q', 'Heart'],\n",
       " ['K', 'Heart'],\n",
       " ['A', 'Spade'],\n",
       " ['2', 'Spade'],\n",
       " ['3', 'Spade'],\n",
       " ['4', 'Spade'],\n",
       " ['5', 'Spade'],\n",
       " ['6', 'Spade'],\n",
       " ['7', 'Spade'],\n",
       " ['8', 'Spade'],\n",
       " ['9', 'Spade'],\n",
       " ['10', 'Spade'],\n",
       " ['J', 'Spade'],\n",
       " ['Q', 'Spade'],\n",
       " ['K', 'Spade']]"
      ]
     },
     "execution_count": 18,
     "metadata": {},
     "output_type": "execute_result"
    }
   ],
   "source": [
    "bubble_sorting(deck_list)"
   ]
  },
  {
   "cell_type": "code",
   "execution_count": null,
   "metadata": {
    "collapsed": true
   },
   "outputs": [],
   "source": []
  }
 ],
 "metadata": {
  "kernelspec": {
   "display_name": "Python 3",
   "language": "python",
   "name": "python3"
  },
  "language_info": {
   "codemirror_mode": {
    "name": "ipython",
    "version": 3
   },
   "file_extension": ".py",
   "mimetype": "text/x-python",
   "name": "python",
   "nbconvert_exporter": "python",
   "pygments_lexer": "ipython3",
   "version": "3.6.6"
  }
 },
 "nbformat": 4,
 "nbformat_minor": 2
}
